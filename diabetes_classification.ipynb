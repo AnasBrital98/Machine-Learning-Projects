{
  "nbformat": 4,
  "nbformat_minor": 0,
  "metadata": {
    "colab": {
      "name": "Mini-projet-1.ipynb",
      "provenance": [],
      "collapsed_sections": []
    },
    "kernelspec": {
      "name": "python3",
      "display_name": "Python 3"
    },
    "language_info": {
      "name": "python"
    }
  },
  "cells": [
    {
      "cell_type": "markdown",
      "source": [
        "# Connect to google Drive to get The data"
      ],
      "metadata": {
        "id": "5OCFSobUWzWM"
      }
    },
    {
      "cell_type": "code",
      "execution_count": null,
      "metadata": {
        "colab": {
          "base_uri": "https://localhost:8080/"
        },
        "id": "xc885JVEV7T8",
        "outputId": "7a861f6a-31a6-4a5e-b147-e1eec0b7e298"
      },
      "outputs": [
        {
          "output_type": "stream",
          "name": "stdout",
          "text": [
            "Mounted at /content/drive\n"
          ]
        }
      ],
      "source": [
        "from google.colab import drive\n",
        "drive.mount('/content/drive')"
      ]
    },
    {
      "cell_type": "markdown",
      "source": [
        "# Import the necessary libraries that we will use in this project"
      ],
      "metadata": {
        "id": "cipauUQdW4cb"
      }
    },
    {
      "cell_type": "code",
      "source": [
        "from sklearn.model_selection import train_test_split , GridSearchCV\n",
        "from sklearn.metrics import classification_report, confusion_matrix , accuracy_score\n",
        "from sklearn.preprocessing import StandardScaler\n",
        "from sklearn.feature_selection import SelectKBest , chi2\n",
        "from sklearn.impute import SimpleImputer\n",
        "from sklearn.neighbors import KNeighborsClassifier\n",
        "from sklearn.svm import SVC\n",
        "from sklearn.neural_network import MLPClassifier\n",
        "from sklearn.tree import DecisionTreeClassifier\n",
        "from sklearn.linear_model import LogisticRegression\n",
        "from sklearn.ensemble import AdaBoostClassifier\n",
        "from sklearn.naive_bayes import GaussianNB\n",
        "import numpy as np\n",
        "import pandas as pd\n",
        "import matplotlib.pyplot as plt\n",
        "import seaborn as sns\n",
        "import time"
      ],
      "metadata": {
        "id": "cp5AAwAkW_9G"
      },
      "execution_count": null,
      "outputs": []
    },
    {
      "cell_type": "markdown",
      "source": [
        "# Read The Data"
      ],
      "metadata": {
        "id": "Ec6-f2lvcNG8"
      }
    },
    {
      "cell_type": "code",
      "source": [
        "df = pd.read_csv('/content/drive/MyDrive/DataSets/diabetes.csv')"
      ],
      "metadata": {
        "id": "MEOzRWE9cMwD"
      },
      "execution_count": null,
      "outputs": []
    },
    {
      "cell_type": "markdown",
      "source": [
        "# Explore The Data"
      ],
      "metadata": {
        "id": "QKg7tez7csNP"
      }
    },
    {
      "cell_type": "code",
      "source": [
        "# Print the list of columns\n",
        "print('List of Columns : ')\n",
        "for column in df.columns:\n",
        "  print(column)"
      ],
      "metadata": {
        "colab": {
          "base_uri": "https://localhost:8080/"
        },
        "id": "ZUL7IzchcuKN",
        "outputId": "67e57dd3-7647-4700-82b7-265d728f524e"
      },
      "execution_count": null,
      "outputs": [
        {
          "output_type": "stream",
          "name": "stdout",
          "text": [
            "List of Columns : \n",
            "Pregnancies\n",
            "Glucose\n",
            "BloodPressure\n",
            "SkinThickness\n",
            "Insulin\n",
            "BMI\n",
            "DiabetesPedigreeFunction\n",
            "Age\n",
            "Outcome\n"
          ]
        }
      ]
    },
    {
      "cell_type": "code",
      "source": [
        "# display The First 5 rows of the data\n",
        "df.head()"
      ],
      "metadata": {
        "colab": {
          "base_uri": "https://localhost:8080/",
          "height": 206
        },
        "id": "sfxe_zIadCf-",
        "outputId": "6006d6c9-2bd9-49bc-a1bc-e2d5c5f41752"
      },
      "execution_count": null,
      "outputs": [
        {
          "output_type": "execute_result",
          "data": {
            "text/html": [
              "\n",
              "  <div id=\"df-896ff963-2b07-43e1-af27-f4707c49f16c\">\n",
              "    <div class=\"colab-df-container\">\n",
              "      <div>\n",
              "<style scoped>\n",
              "    .dataframe tbody tr th:only-of-type {\n",
              "        vertical-align: middle;\n",
              "    }\n",
              "\n",
              "    .dataframe tbody tr th {\n",
              "        vertical-align: top;\n",
              "    }\n",
              "\n",
              "    .dataframe thead th {\n",
              "        text-align: right;\n",
              "    }\n",
              "</style>\n",
              "<table border=\"1\" class=\"dataframe\">\n",
              "  <thead>\n",
              "    <tr style=\"text-align: right;\">\n",
              "      <th></th>\n",
              "      <th>Pregnancies</th>\n",
              "      <th>Glucose</th>\n",
              "      <th>BloodPressure</th>\n",
              "      <th>SkinThickness</th>\n",
              "      <th>Insulin</th>\n",
              "      <th>BMI</th>\n",
              "      <th>DiabetesPedigreeFunction</th>\n",
              "      <th>Age</th>\n",
              "      <th>Outcome</th>\n",
              "    </tr>\n",
              "  </thead>\n",
              "  <tbody>\n",
              "    <tr>\n",
              "      <th>0</th>\n",
              "      <td>6</td>\n",
              "      <td>148</td>\n",
              "      <td>72</td>\n",
              "      <td>35</td>\n",
              "      <td>0</td>\n",
              "      <td>33.6</td>\n",
              "      <td>0.627</td>\n",
              "      <td>50</td>\n",
              "      <td>1</td>\n",
              "    </tr>\n",
              "    <tr>\n",
              "      <th>1</th>\n",
              "      <td>1</td>\n",
              "      <td>85</td>\n",
              "      <td>66</td>\n",
              "      <td>29</td>\n",
              "      <td>0</td>\n",
              "      <td>26.6</td>\n",
              "      <td>0.351</td>\n",
              "      <td>31</td>\n",
              "      <td>0</td>\n",
              "    </tr>\n",
              "    <tr>\n",
              "      <th>2</th>\n",
              "      <td>8</td>\n",
              "      <td>183</td>\n",
              "      <td>64</td>\n",
              "      <td>0</td>\n",
              "      <td>0</td>\n",
              "      <td>23.3</td>\n",
              "      <td>0.672</td>\n",
              "      <td>32</td>\n",
              "      <td>1</td>\n",
              "    </tr>\n",
              "    <tr>\n",
              "      <th>3</th>\n",
              "      <td>1</td>\n",
              "      <td>89</td>\n",
              "      <td>66</td>\n",
              "      <td>23</td>\n",
              "      <td>94</td>\n",
              "      <td>28.1</td>\n",
              "      <td>0.167</td>\n",
              "      <td>21</td>\n",
              "      <td>0</td>\n",
              "    </tr>\n",
              "    <tr>\n",
              "      <th>4</th>\n",
              "      <td>0</td>\n",
              "      <td>137</td>\n",
              "      <td>40</td>\n",
              "      <td>35</td>\n",
              "      <td>168</td>\n",
              "      <td>43.1</td>\n",
              "      <td>2.288</td>\n",
              "      <td>33</td>\n",
              "      <td>1</td>\n",
              "    </tr>\n",
              "  </tbody>\n",
              "</table>\n",
              "</div>\n",
              "      <button class=\"colab-df-convert\" onclick=\"convertToInteractive('df-896ff963-2b07-43e1-af27-f4707c49f16c')\"\n",
              "              title=\"Convert this dataframe to an interactive table.\"\n",
              "              style=\"display:none;\">\n",
              "        \n",
              "  <svg xmlns=\"http://www.w3.org/2000/svg\" height=\"24px\"viewBox=\"0 0 24 24\"\n",
              "       width=\"24px\">\n",
              "    <path d=\"M0 0h24v24H0V0z\" fill=\"none\"/>\n",
              "    <path d=\"M18.56 5.44l.94 2.06.94-2.06 2.06-.94-2.06-.94-.94-2.06-.94 2.06-2.06.94zm-11 1L8.5 8.5l.94-2.06 2.06-.94-2.06-.94L8.5 2.5l-.94 2.06-2.06.94zm10 10l.94 2.06.94-2.06 2.06-.94-2.06-.94-.94-2.06-.94 2.06-2.06.94z\"/><path d=\"M17.41 7.96l-1.37-1.37c-.4-.4-.92-.59-1.43-.59-.52 0-1.04.2-1.43.59L10.3 9.45l-7.72 7.72c-.78.78-.78 2.05 0 2.83L4 21.41c.39.39.9.59 1.41.59.51 0 1.02-.2 1.41-.59l7.78-7.78 2.81-2.81c.8-.78.8-2.07 0-2.86zM5.41 20L4 18.59l7.72-7.72 1.47 1.35L5.41 20z\"/>\n",
              "  </svg>\n",
              "      </button>\n",
              "      \n",
              "  <style>\n",
              "    .colab-df-container {\n",
              "      display:flex;\n",
              "      flex-wrap:wrap;\n",
              "      gap: 12px;\n",
              "    }\n",
              "\n",
              "    .colab-df-convert {\n",
              "      background-color: #E8F0FE;\n",
              "      border: none;\n",
              "      border-radius: 50%;\n",
              "      cursor: pointer;\n",
              "      display: none;\n",
              "      fill: #1967D2;\n",
              "      height: 32px;\n",
              "      padding: 0 0 0 0;\n",
              "      width: 32px;\n",
              "    }\n",
              "\n",
              "    .colab-df-convert:hover {\n",
              "      background-color: #E2EBFA;\n",
              "      box-shadow: 0px 1px 2px rgba(60, 64, 67, 0.3), 0px 1px 3px 1px rgba(60, 64, 67, 0.15);\n",
              "      fill: #174EA6;\n",
              "    }\n",
              "\n",
              "    [theme=dark] .colab-df-convert {\n",
              "      background-color: #3B4455;\n",
              "      fill: #D2E3FC;\n",
              "    }\n",
              "\n",
              "    [theme=dark] .colab-df-convert:hover {\n",
              "      background-color: #434B5C;\n",
              "      box-shadow: 0px 1px 3px 1px rgba(0, 0, 0, 0.15);\n",
              "      filter: drop-shadow(0px 1px 2px rgba(0, 0, 0, 0.3));\n",
              "      fill: #FFFFFF;\n",
              "    }\n",
              "  </style>\n",
              "\n",
              "      <script>\n",
              "        const buttonEl =\n",
              "          document.querySelector('#df-896ff963-2b07-43e1-af27-f4707c49f16c button.colab-df-convert');\n",
              "        buttonEl.style.display =\n",
              "          google.colab.kernel.accessAllowed ? 'block' : 'none';\n",
              "\n",
              "        async function convertToInteractive(key) {\n",
              "          const element = document.querySelector('#df-896ff963-2b07-43e1-af27-f4707c49f16c');\n",
              "          const dataTable =\n",
              "            await google.colab.kernel.invokeFunction('convertToInteractive',\n",
              "                                                     [key], {});\n",
              "          if (!dataTable) return;\n",
              "\n",
              "          const docLinkHtml = 'Like what you see? Visit the ' +\n",
              "            '<a target=\"_blank\" href=https://colab.research.google.com/notebooks/data_table.ipynb>data table notebook</a>'\n",
              "            + ' to learn more about interactive tables.';\n",
              "          element.innerHTML = '';\n",
              "          dataTable['output_type'] = 'display_data';\n",
              "          await google.colab.output.renderOutput(dataTable, element);\n",
              "          const docLink = document.createElement('div');\n",
              "          docLink.innerHTML = docLinkHtml;\n",
              "          element.appendChild(docLink);\n",
              "        }\n",
              "      </script>\n",
              "    </div>\n",
              "  </div>\n",
              "  "
            ],
            "text/plain": [
              "   Pregnancies  Glucose  BloodPressure  ...  DiabetesPedigreeFunction  Age  Outcome\n",
              "0            6      148             72  ...                     0.627   50        1\n",
              "1            1       85             66  ...                     0.351   31        0\n",
              "2            8      183             64  ...                     0.672   32        1\n",
              "3            1       89             66  ...                     0.167   21        0\n",
              "4            0      137             40  ...                     2.288   33        1\n",
              "\n",
              "[5 rows x 9 columns]"
            ]
          },
          "metadata": {},
          "execution_count": 5
        }
      ]
    },
    {
      "cell_type": "markdown",
      "source": [
        "### Counting The Number of samples which have 0 and 1"
      ],
      "metadata": {
        "id": "nlxF96Obp0oT"
      }
    },
    {
      "cell_type": "code",
      "source": [
        "# Counting The Number of Classes\n",
        "a=np.unique(df[['Outcome']],return_counts=True)\n",
        "a = np.array(a)\n",
        "\n",
        "print('The Number of Samples which have class 0 is : ', a[:,0][1])\n",
        "print('The Number of Samples which have class 1 is : ', a[:,1][1])"
      ],
      "metadata": {
        "colab": {
          "base_uri": "https://localhost:8080/"
        },
        "id": "f_TAQOb_p6wn",
        "outputId": "dc68261c-bde9-4ac1-9350-182302e6ba0e"
      },
      "execution_count": null,
      "outputs": [
        {
          "output_type": "stream",
          "name": "stdout",
          "text": [
            "The Number of Samples which have class 0 is :  500\n",
            "The Number of Samples which have class 1 is :  268\n"
          ]
        }
      ]
    },
    {
      "cell_type": "code",
      "source": [
        "plt.bar(a[0],a[1],width=0.2,color=\"blue\")\n",
        "plt.xlabel(\"classes\")\n",
        "plt.ylabel(\"number of example\")\n",
        "plt.show()"
      ],
      "metadata": {
        "colab": {
          "base_uri": "https://localhost:8080/",
          "height": 279
        },
        "id": "A5IgKULHp_gd",
        "outputId": "e41e85f3-004b-4971-da0e-061833deb8b2"
      },
      "execution_count": null,
      "outputs": [
        {
          "output_type": "display_data",
          "data": {
            "image/png": "[encoded data removed]",
            "text/plain": [
              "<Figure size 432x288 with 1 Axes>"
            ]
          },
          "metadata": {
            "needs_background": "light"
          }
        }
      ]
    },
    {
      "cell_type": "code",
      "source": [
        "# Print infos about the data\n",
        "print('Infos on The Data : ')\n",
        "df.info(verbose=True)"
      ],
      "metadata": {
        "colab": {
          "base_uri": "https://localhost:8080/"
        },
        "id": "SZkch_x-dFUG",
        "outputId": "bc94f687-92b1-4ae3-ed36-9453245deb7b"
      },
      "execution_count": null,
      "outputs": [
        {
          "output_type": "stream",
          "name": "stdout",
          "text": [
            "Infos on The Data : \n",
            "<class 'pandas.core.frame.DataFrame'>\n",
            "RangeIndex: 768 entries, 0 to 767\n",
            "Data columns (total 9 columns):\n",
            " #   Column                    Non-Null Count  Dtype  \n",
            "---  ------                    --------------  -----  \n",
            " 0   Pregnancies               768 non-null    int64  \n",
            " 1   Glucose                   768 non-null    int64  \n",
            " 2   BloodPressure             768 non-null    int64  \n",
            " 3   SkinThickness             768 non-null    int64  \n",
            " 4   Insulin                   768 non-null    int64  \n",
            " 5   BMI                       768 non-null    float64\n",
            " 6   DiabetesPedigreeFunction  768 non-null    float64\n",
            " 7   Age                       768 non-null    int64  \n",
            " 8   Outcome                   768 non-null    int64  \n",
            "dtypes: float64(2), int64(7)\n",
            "memory usage: 54.1 KB\n"
          ]
        }
      ]
    },
    {
      "cell_type": "code",
      "source": [
        "# Display The Infos About The Data (like : mean , standard deviation , max value , min value ...)\n",
        "df.describe().T"
      ],
      "metadata": {
        "colab": {
          "base_uri": "https://localhost:8080/",
          "height": 331
        },
        "id": "PhP4u-04dMss",
        "outputId": "433f63b6-fda0-4cca-909d-ee5f7df8b01b"
      },
      "execution_count": null,
      "outputs": [
        {
          "output_type": "execute_result",
          "data": {
            "text/html": [
              "\n",
              "  <div id=\"df-90a05239-66da-4728-9b03-ef5ab5e12867\">\n",
              "    <div class=\"colab-df-container\">\n",
              "      <div>\n",
              "<style scoped>\n",
              "    .dataframe tbody tr th:only-of-type {\n",
              "        vertical-align: middle;\n",
              "    }\n",
              "\n",
              "    .dataframe tbody tr th {\n",
              "        vertical-align: top;\n",
              "    }\n",
              "\n",
              "    .dataframe thead th {\n",
              "        text-align: right;\n",
              "    }\n",
              "</style>\n",
              "<table border=\"1\" class=\"dataframe\">\n",
              "  <thead>\n",
              "    <tr style=\"text-align: right;\">\n",
              "      <th></th>\n",
              "      <th>count</th>\n",
              "      <th>mean</th>\n",
              "      <th>std</th>\n",
              "      <th>min</th>\n",
              "      <th>25%</th>\n",
              "      <th>50%</th>\n",
              "      <th>75%</th>\n",
              "      <th>max</th>\n",
              "    </tr>\n",
              "  </thead>\n",
              "  <tbody>\n",
              "    <tr>\n",
              "      <th>Pregnancies</th>\n",
              "      <td>768.0</td>\n",
              "      <td>3.845052</td>\n",
              "      <td>3.369578</td>\n",
              "      <td>0.000</td>\n",
              "      <td>1.00000</td>\n",
              "      <td>3.0000</td>\n",
              "      <td>6.00000</td>\n",
              "      <td>17.00</td>\n",
              "    </tr>\n",
              "    <tr>\n",
              "      <th>Glucose</th>\n",
              "      <td>768.0</td>\n",
              "      <td>120.894531</td>\n",
              "      <td>31.972618</td>\n",
              "      <td>0.000</td>\n",
              "      <td>99.00000</td>\n",
              "      <td>117.0000</td>\n",
              "      <td>140.25000</td>\n",
              "      <td>199.00</td>\n",
              "    </tr>\n",
              "    <tr>\n",
              "      <th>BloodPressure</th>\n",
              "      <td>768.0</td>\n",
              "      <td>69.105469</td>\n",
              "      <td>19.355807</td>\n",
              "      <td>0.000</td>\n",
              "      <td>62.00000</td>\n",
              "      <td>72.0000</td>\n",
              "      <td>80.00000</td>\n",
              "      <td>122.00</td>\n",
              "    </tr>\n",
              "    <tr>\n",
              "      <th>SkinThickness</th>\n",
              "      <td>768.0</td>\n",
              "      <td>20.536458</td>\n",
              "      <td>15.952218</td>\n",
              "      <td>0.000</td>\n",
              "      <td>0.00000</td>\n",
              "      <td>23.0000</td>\n",
              "      <td>32.00000</td>\n",
              "      <td>99.00</td>\n",
              "    </tr>\n",
              "    <tr>\n",
              "      <th>Insulin</th>\n",
              "      <td>768.0</td>\n",
              "      <td>79.799479</td>\n",
              "      <td>115.244002</td>\n",
              "      <td>0.000</td>\n",
              "      <td>0.00000</td>\n",
              "      <td>30.5000</td>\n",
              "      <td>127.25000</td>\n",
              "      <td>846.00</td>\n",
              "    </tr>\n",
              "    <tr>\n",
              "      <th>BMI</th>\n",
              "      <td>768.0</td>\n",
              "      <td>31.992578</td>\n",
              "      <td>7.884160</td>\n",
              "      <td>0.000</td>\n",
              "      <td>27.30000</td>\n",
              "      <td>32.0000</td>\n",
              "      <td>36.60000</td>\n",
              "      <td>67.10</td>\n",
              "    </tr>\n",
              "    <tr>\n",
              "      <th>DiabetesPedigreeFunction</th>\n",
              "      <td>768.0</td>\n",
              "      <td>0.471876</td>\n",
              "      <td>0.331329</td>\n",
              "      <td>0.078</td>\n",
              "      <td>0.24375</td>\n",
              "      <td>0.3725</td>\n",
              "      <td>0.62625</td>\n",
              "      <td>2.42</td>\n",
              "    </tr>\n",
              "    <tr>\n",
              "      <th>Age</th>\n",
              "      <td>768.0</td>\n",
              "      <td>33.240885</td>\n",
              "      <td>11.760232</td>\n",
              "      <td>21.000</td>\n",
              "      <td>24.00000</td>\n",
              "      <td>29.0000</td>\n",
              "      <td>41.00000</td>\n",
              "      <td>81.00</td>\n",
              "    </tr>\n",
              "    <tr>\n",
              "      <th>Outcome</th>\n",
              "      <td>768.0</td>\n",
              "      <td>0.348958</td>\n",
              "      <td>0.476951</td>\n",
              "      <td>0.000</td>\n",
              "      <td>0.00000</td>\n",
              "      <td>0.0000</td>\n",
              "      <td>1.00000</td>\n",
              "      <td>1.00</td>\n",
              "    </tr>\n",
              "  </tbody>\n",
              "</table>\n",
              "</div>\n",
              "      <button class=\"colab-df-convert\" onclick=\"convertToInteractive('df-90a05239-66da-4728-9b03-ef5ab5e12867')\"\n",
              "              title=\"Convert this dataframe to an interactive table.\"\n",
              "              style=\"display:none;\">\n",
              "        \n",
              "  <svg xmlns=\"http://www.w3.org/2000/svg\" height=\"24px\"viewBox=\"0 0 24 24\"\n",
              "       width=\"24px\">\n",
              "    <path d=\"M0 0h24v24H0V0z\" fill=\"none\"/>\n",
              "    <path d=\"M18.56 5.44l.94 2.06.94-2.06 2.06-.94-2.06-.94-.94-2.06-.94 2.06-2.06.94zm-11 1L8.5 8.5l.94-2.06 2.06-.94-2.06-.94L8.5 2.5l-.94 2.06-2.06.94zm10 10l.94 2.06.94-2.06 2.06-.94-2.06-.94-.94-2.06-.94 2.06-2.06.94z\"/><path d=\"M17.41 7.96l-1.37-1.37c-.4-.4-.92-.59-1.43-.59-.52 0-1.04.2-1.43.59L10.3 9.45l-7.72 7.72c-.78.78-.78 2.05 0 2.83L4 21.41c.39.39.9.59 1.41.59.51 0 1.02-.2 1.41-.59l7.78-7.78 2.81-2.81c.8-.78.8-2.07 0-2.86zM5.41 20L4 18.59l7.72-7.72 1.47 1.35L5.41 20z\"/>\n",
              "  </svg>\n",
              "      </button>\n",
              "      \n",
              "  <style>\n",
              "    .colab-df-container {\n",
              "      display:flex;\n",
              "      flex-wrap:wrap;\n",
              "      gap: 12px;\n",
              "    }\n",
              "\n",
              "    .colab-df-convert {\n",
              "      background-color: #E8F0FE;\n",
              "      border: none;\n",
              "      border-radius: 50%;\n",
              "      cursor: pointer;\n",
              "      display: none;\n",
              "      fill: #1967D2;\n",
              "      height: 32px;\n",
              "      padding: 0 0 0 0;\n",
              "      width: 32px;\n",
              "    }\n",
              "\n",
              "    .colab-df-convert:hover {\n",
              "      background-color: #E2EBFA;\n",
              "      box-shadow: 0px 1px 2px rgba(60, 64, 67, 0.3), 0px 1px 3px 1px rgba(60, 64, 67, 0.15);\n",
              "      fill: #174EA6;\n",
              "    }\n",
              "\n",
              "    [theme=dark] .colab-df-convert {\n",
              "      background-color: #3B4455;\n",
              "      fill: #D2E3FC;\n",
              "    }\n",
              "\n",
              "    [theme=dark] .colab-df-convert:hover {\n",
              "      background-color: #434B5C;\n",
              "      box-shadow: 0px 1px 3px 1px rgba(0, 0, 0, 0.15);\n",
              "      filter: drop-shadow(0px 1px 2px rgba(0, 0, 0, 0.3));\n",
              "      fill: #FFFFFF;\n",
              "    }\n",
              "  </style>\n",
              "\n",
              "      <script>\n",
              "        const buttonEl =\n",
              "          document.querySelector('#df-90a05239-66da-4728-9b03-ef5ab5e12867 button.colab-df-convert');\n",
              "        buttonEl.style.display =\n",
              "          google.colab.kernel.accessAllowed ? 'block' : 'none';\n",
              "\n",
              "        async function convertToInteractive(key) {\n",
              "          const element = document.querySelector('#df-90a05239-66da-4728-9b03-ef5ab5e12867');\n",
              "          const dataTable =\n",
              "            await google.colab.kernel.invokeFunction('convertToInteractive',\n",
              "                                                     [key], {});\n",
              "          if (!dataTable) return;\n",
              "\n",
              "          const docLinkHtml = 'Like what you see? Visit the ' +\n",
              "            '<a target=\"_blank\" href=https://colab.research.google.com/notebooks/data_table.ipynb>data table notebook</a>'\n",
              "            + ' to learn more about interactive tables.';\n",
              "          element.innerHTML = '';\n",
              "          dataTable['output_type'] = 'display_data';\n",
              "          await google.colab.output.renderOutput(dataTable, element);\n",
              "          const docLink = document.createElement('div');\n",
              "          docLink.innerHTML = docLinkHtml;\n",
              "          element.appendChild(docLink);\n",
              "        }\n",
              "      </script>\n",
              "    </div>\n",
              "  </div>\n",
              "  "
            ],
            "text/plain": [
              "                          count        mean  ...        75%     max\n",
              "Pregnancies               768.0    3.845052  ...    6.00000   17.00\n",
              "Glucose                   768.0  120.894531  ...  140.25000  199.00\n",
              "BloodPressure             768.0   69.105469  ...   80.00000  122.00\n",
              "SkinThickness             768.0   20.536458  ...   32.00000   99.00\n",
              "Insulin                   768.0   79.799479  ...  127.25000  846.00\n",
              "BMI                       768.0   31.992578  ...   36.60000   67.10\n",
              "DiabetesPedigreeFunction  768.0    0.471876  ...    0.62625    2.42\n",
              "Age                       768.0   33.240885  ...   41.00000   81.00\n",
              "Outcome                   768.0    0.348958  ...    1.00000    1.00\n",
              "\n",
              "[9 rows x 8 columns]"
            ]
          },
          "metadata": {},
          "execution_count": 9
        }
      ]
    },
    {
      "cell_type": "code",
      "source": [
        "# Visualize The Distribution of each Column\n",
        "p = df.hist(figsize = (20,20))"
      ],
      "metadata": {
        "colab": {
          "base_uri": "https://localhost:8080/",
          "height": 1000
        },
        "id": "tIftUMqgd-Tw",
        "outputId": "4c46e7f8-a6f4-4487-841d-30e5a66fe3d5"
      },
      "execution_count": null,
      "outputs": [
        {
          "output_type": "display_data",
          "data": {
            "image/png": "[encoded data removed]",
            "text/plain": [
              "<Figure size 1440x1440 with 9 Axes>"
            ]
          },
          "metadata": {
            "needs_background": "light"
          }
        }
      ]
    },
    {
      "cell_type": "code",
      "source": [
        "# display the correlation between each Feature\n",
        "correlation_Matrix = df.corr()\n",
        "top_corr_features = correlation_Matrix.index\n",
        "plt.figure(figsize=(20,20))\n",
        "#plot The correlation Matrix as a heat map\n",
        "g=sns.heatmap(df[top_corr_features].corr(),annot=True,cmap=\"RdYlGn\")"
      ],
      "metadata": {
        "colab": {
          "base_uri": "https://localhost:8080/",
          "height": 1000
        },
        "id": "JHho-T6GebTH",
        "outputId": "8748fbcd-5b58-4ec0-d546-e4339987d92b"
      },
      "execution_count": null,
      "outputs": [
        {
          "output_type": "display_data",
          "data": {
            "image/png": "[encoded data removed]",
            "text/plain": [
              "<Figure size 1440x1440 with 2 Axes>"
            ]
          },
          "metadata": {
            "needs_background": "light"
          }
        }
      ]
    },
    {
      "cell_type": "code",
      "source": [
        "print('The Correlation Matrix : ')\n",
        "print(correlation_Matrix)"
      ],
      "metadata": {
        "colab": {
          "base_uri": "https://localhost:8080/"
        },
        "id": "CDCAXjEhehHJ",
        "outputId": "59418f16-998a-4001-9d40-a32712912e89"
      },
      "execution_count": null,
      "outputs": [
        {
          "output_type": "stream",
          "name": "stdout",
          "text": [
            "The Correlation Matrix : \n",
            "                          Pregnancies   Glucose  ...       Age   Outcome\n",
            "Pregnancies                  1.000000  0.129459  ...  0.544341  0.221898\n",
            "Glucose                      0.129459  1.000000  ...  0.263514  0.466581\n",
            "BloodPressure                0.141282  0.152590  ...  0.239528  0.065068\n",
            "SkinThickness               -0.081672  0.057328  ... -0.113970  0.074752\n",
            "Insulin                     -0.073535  0.331357  ... -0.042163  0.130548\n",
            "BMI                          0.017683  0.221071  ...  0.036242  0.292695\n",
            "DiabetesPedigreeFunction    -0.033523  0.137337  ...  0.033561  0.173844\n",
            "Age                          0.544341  0.263514  ...  1.000000  0.238356\n",
            "Outcome                      0.221898  0.466581  ...  0.238356  1.000000\n",
            "\n",
            "[9 rows x 9 columns]\n"
          ]
        }
      ]
    },
    {
      "cell_type": "markdown",
      "source": [
        "# data preprocessing :\n",
        "* Handling Missing Values .\n",
        "* data Scaling .\n",
        "* Data selection .\n",
        "* Data Splitting .\n"
      ],
      "metadata": {
        "id": "NJU0Q01lemoE"
      }
    },
    {
      "cell_type": "code",
      "source": [
        "x = df[df.columns[:-1]].values\n",
        "y = df[df.columns[-1]].values\n",
        "print(f'x.shape : {x.shape} , type(x) : {type(x)} ')\n",
        "print(f'y.shape : {y.shape} , type(y) : {type(y)} ')"
      ],
      "metadata": {
        "colab": {
          "base_uri": "https://localhost:8080/"
        },
        "id": "sO5xvYiAel_-",
        "outputId": "b93f3288-e5d7-4e68-9007-71a734c26eed"
      },
      "execution_count": null,
      "outputs": [
        {
          "output_type": "stream",
          "name": "stdout",
          "text": [
            "x.shape : (768, 8) , type(x) : <class 'numpy.ndarray'> \n",
            "y.shape : (768,) , type(y) : <class 'numpy.ndarray'> \n"
          ]
        }
      ]
    },
    {
      "cell_type": "code",
      "source": [
        "# check if any nan value is present in our dataset\n",
        "df.isnull().values.any()"
      ],
      "metadata": {
        "colab": {
          "base_uri": "https://localhost:8080/"
        },
        "id": "xYIFwvFMfDGf",
        "outputId": "6c2f6320-4a1d-4630-e19a-0ea3d7ec09d3"
      },
      "execution_count": null,
      "outputs": [
        {
          "output_type": "execute_result",
          "data": {
            "text/plain": [
              "False"
            ]
          },
          "metadata": {},
          "execution_count": 120
        }
      ]
    },
    {
      "cell_type": "code",
      "source": [
        "# Counting The Number of Columns which have 0\n",
        "for column in df.columns :\n",
        "  print(f\"number of rows contains 0 in  {column} is : {len(df.loc[df[column] == 0])}\")"
      ],
      "metadata": {
        "colab": {
          "base_uri": "https://localhost:8080/"
        },
        "id": "K2vQ3pNufP3M",
        "outputId": "f78b0123-42c3-44cc-92e2-29b09e115459"
      },
      "execution_count": null,
      "outputs": [
        {
          "output_type": "stream",
          "name": "stdout",
          "text": [
            "number of rows contains 0 in  Pregnancies is : 111\n",
            "number of rows contains 0 in  Glucose is : 5\n",
            "number of rows contains 0 in  BloodPressure is : 35\n",
            "number of rows contains 0 in  SkinThickness is : 227\n",
            "number of rows contains 0 in  Insulin is : 374\n",
            "number of rows contains 0 in  BMI is : 11\n",
            "number of rows contains 0 in  DiabetesPedigreeFunction is : 0\n",
            "number of rows contains 0 in  Age is : 0\n",
            "number of rows contains 0 in  Outcome is : 500\n"
          ]
        }
      ]
    },
    {
      "cell_type": "markdown",
      "source": [
        "### Handling Missing Values"
      ],
      "metadata": {
        "id": "A2e0SWTzi3Ax"
      }
    },
    {
      "cell_type": "markdown",
      "source": [
        "---\n",
        "we don't have nan values in our data set, but we have a lot of zero values in our data which will negatively influence our model.\n",
        "\n",
        "now we need to find a way to replace these zero values , we have two options:\n",
        "* **replace zero values with the mean**.\n",
        "* **replace zero values with the median**."
      ],
      "metadata": {
        "id": "6p57PKQ6foM-"
      }
    },
    {
      "cell_type": "code",
      "source": [
        "imputer = SimpleImputer(missing_values=0, strategy=\"median\")\n",
        "x = imputer.fit_transform(x)"
      ],
      "metadata": {
        "id": "TrFT9lHNfkmq"
      },
      "execution_count": null,
      "outputs": []
    },
    {
      "cell_type": "markdown",
      "source": [
        "### Feature Selecting"
      ],
      "metadata": {
        "id": "gsd_47hBkWfT"
      }
    },
    {
      "cell_type": "code",
      "source": [
        "# Select 4 Important Features \n",
        "#select_feature = SelectKBest(chi2, k=7).fit(df[df.columns[:-1]].values, df[df.columns[-1]].values)\n",
        "select_feature = SelectKBest(chi2, k=7).fit(x, y)\n",
        "for score , column in zip(select_feature.scores_ , df.columns[:-1]):\n",
        "  print(column , ' : ' , score)"
      ],
      "metadata": {
        "colab": {
          "base_uri": "https://localhost:8080/"
        },
        "id": "Mn5ifILekaPs",
        "outputId": "239459d4-2d15-4e01-8c4d-cfb7ba3c0966"
      },
      "execution_count": null,
      "outputs": [
        {
          "output_type": "stream",
          "name": "stdout",
          "text": [
            "Pregnancies  :  94.87262102206074\n",
            "Glucose  :  1418.442397291733\n",
            "BloodPressure  :  42.5825070857466\n",
            "SkinThickness  :  94.02533496329579\n",
            "Insulin  :  1689.7110747760696\n",
            "BMI  :  108.76636653252069\n",
            "DiabetesPedigreeFunction  :  5.392681546971445\n",
            "Age  :  181.30368904430023\n"
          ]
        }
      ]
    },
    {
      "cell_type": "code",
      "source": [
        "# Plot The Important of each Column\n",
        "plt.figure(figsize=(20, 10))\n",
        "plt.bar( df.columns[:-1] , select_feature.scores_ )\n",
        "plt.title('Importance of Each Feature In The Data')\n",
        "plt.show()"
      ],
      "metadata": {
        "colab": {
          "base_uri": "https://localhost:8080/",
          "height": 605
        },
        "id": "hpTtEpPlkh3O",
        "outputId": "4bfccae8-c022-40ef-f33c-04e8491271a9"
      },
      "execution_count": null,
      "outputs": [
        {
          "output_type": "display_data",
          "data": {
            "image/png": "[encoded data removed]",
            "text/plain": [
              "<Figure size 1440x720 with 1 Axes>"
            ]
          },
          "metadata": {
            "needs_background": "light"
          }
        }
      ]
    },
    {
      "cell_type": "code",
      "source": [
        "x  = select_feature.transform(x)\n",
        "print('The Dataset Shape After Feature Selection : ', x.shape)"
      ],
      "metadata": {
        "colab": {
          "base_uri": "https://localhost:8080/"
        },
        "id": "7DwVKURjkpA2",
        "outputId": "968f7595-c1d7-4b50-b9cb-4ee7f6c59681"
      },
      "execution_count": null,
      "outputs": [
        {
          "output_type": "stream",
          "name": "stdout",
          "text": [
            "The Dataset Shape After Feature Selection :  (768, 7)\n"
          ]
        }
      ]
    },
    {
      "cell_type": "markdown",
      "source": [
        "### Data Scaling"
      ],
      "metadata": {
        "id": "5j5GDhcTi0SF"
      }
    },
    {
      "cell_type": "code",
      "source": [
        "\n",
        "print('Before Scaling : ')\n",
        "\n",
        "ranges = [ (np.min(x[:,i]) , np.max(x[:,i])) for i in range(x.shape[1])]\n",
        "\n",
        "for i , column in enumerate(df.columns[:-2]):\n",
        "  print(f'Column name : {column} , values between {ranges[i]}')\n",
        "print('\\n')\n",
        "standardscaler=StandardScaler()\n",
        "x = standardscaler.fit_transform(x)\n",
        "print(f'After Scaling :   .',)\n",
        "\n",
        "ranges = [ (np.min(x[:,i]) , np.max(x[:,i])) for i in range(x.shape[1])]\n",
        "\n",
        "for i , column in enumerate(df.columns[:-2]):\n",
        "  print(f'Column name : {column} , values between {ranges[i]}')"
      ],
      "metadata": {
        "colab": {
          "base_uri": "https://localhost:8080/"
        },
        "id": "WtLcpPk6gnGb",
        "outputId": "1d900a4f-f930-4895-a869-d4aa9028f9d0"
      },
      "execution_count": null,
      "outputs": [
        {
          "output_type": "stream",
          "name": "stdout",
          "text": [
            "Before Scaling : \n",
            "Column name : Pregnancies , values between (1.0, 17.0)\n",
            "Column name : Glucose , values between (44.0, 199.0)\n",
            "Column name : BloodPressure , values between (24.0, 122.0)\n",
            "Column name : SkinThickness , values between (7.0, 99.0)\n",
            "Column name : Insulin , values between (14.0, 846.0)\n",
            "Column name : BMI , values between (18.2, 67.1)\n",
            "Column name : DiabetesPedigreeFunction , values between (21.0, 81.0)\n",
            "\n",
            "\n",
            "After Scaling :   .\n",
            "Column name : Pregnancies , values between (-1.1492800908109853, 4.222478660001259)\n",
            "Column name : Glucose , values between (-2.5529314408155828, 2.542658074856566)\n",
            "Column name : BloodPressure , values between (-4.002619270841412, 4.104082292642026)\n",
            "Column name : SkinThickness , values between (-2.516428628788288, 7.955376612725657)\n",
            "Column name : Insulin , values between (-1.4673527974365268, 8.170441917982268)\n",
            "Column name : BMI , values between (-2.0747827319108394, 5.042396703004941)\n",
            "Column name : DiabetesPedigreeFunction , values between (-1.0415494364835023, 4.063715751598595)\n"
          ]
        }
      ]
    },
    {
      "cell_type": "markdown",
      "source": [
        "### Split The Data into training set and testing set"
      ],
      "metadata": {
        "id": "D1xuNj6Nj6mc"
      }
    },
    {
      "cell_type": "code",
      "source": [
        "x_train , x_test , y_train , y_test = train_test_split(x , y , test_size = 0.25)\n",
        "\n",
        "print(f\"x_train.shape : {x_train.shape}\")\n",
        "print(f\"y_train.shape : {y_train.shape}\")\n",
        "print(f\"x_test.shape : {x_test.shape}\")\n",
        "print(f\"y_test.shape : {y_test.shape}\")"
      ],
      "metadata": {
        "colab": {
          "base_uri": "https://localhost:8080/"
        },
        "id": "KAhADhAej2Bk",
        "outputId": "5c7054c1-32d1-4c54-933a-f9a716cf6848"
      },
      "execution_count": null,
      "outputs": [
        {
          "output_type": "stream",
          "name": "stdout",
          "text": [
            "x_train.shape : (576, 7)\n",
            "y_train.shape : (576,)\n",
            "x_test.shape : (192, 7)\n",
            "y_test.shape : (192,)\n"
          ]
        }
      ]
    },
    {
      "cell_type": "markdown",
      "source": [
        "# In this Section i will try to apply this following Algorithms on our dataset and compare The Result :\n",
        "\n",
        "* KNN Classifier .\n",
        "* SVM Classifier .\n",
        "* Multi-Layer Perceptron Classifier .\n",
        "* Decision Tree Classifier .\n",
        "* Logistic Regression Classifier .\n",
        "* AdaBoost Classifier .\n",
        "* Naive Bayes Classifier ."
      ],
      "metadata": {
        "id": "Bxfa2JJplUce"
      }
    },
    {
      "cell_type": "code",
      "source": [
        "models_data = [] # List to Store The Data about different models"
      ],
      "metadata": {
        "id": "ZIRtu7N1Hm-b"
      },
      "execution_count": null,
      "outputs": []
    },
    {
      "cell_type": "markdown",
      "source": [
        "# k nearest neighbor classifier"
      ],
      "metadata": {
        "id": "JRqqx6VEIjdN"
      }
    },
    {
      "cell_type": "markdown",
      "source": [
        "### Search For The Best Parameters for KNN"
      ],
      "metadata": {
        "id": "V9ZoWPu1HPyr"
      }
    },
    {
      "cell_type": "code",
      "source": [
        "param_grid = {'n_neighbors':np.arange(1,50)}\n",
        "knn = KNeighborsClassifier()\n",
        "grid= GridSearchCV(knn,param_grid,cv=5)\n",
        "grid.fit(x_train,y_train)\n",
        "\n",
        "print(f\"Best Score :  {grid.best_score_} .\" )\n",
        "print(f\"Best Parameters :  {grid.best_params_} .\")"
      ],
      "metadata": {
        "colab": {
          "base_uri": "https://localhost:8080/"
        },
        "id": "Lmy_14IQHTnw",
        "outputId": "fd8da6bb-c24f-4354-b77c-9069b3e5a86c"
      },
      "execution_count": null,
      "outputs": [
        {
          "output_type": "stream",
          "name": "stdout",
          "text": [
            "Best Score :  0.7535382308845577 .\n",
            "Best Parameters :  {'n_neighbors': 31} .\n"
          ]
        }
      ]
    },
    {
      "cell_type": "markdown",
      "source": [
        "### Implement KNN with The Parameters that gridSearch Gives us"
      ],
      "metadata": {
        "id": "6tJfLS3mHcap"
      }
    },
    {
      "cell_type": "code",
      "source": [
        "# KNN Classier\n",
        "knn = KNeighborsClassifier(n_neighbors = 31)\n",
        "start = time.time()\n",
        "knn.fit(x_train , y_train)\n",
        "end   = time.time()\n",
        "pred = knn.predict(x_test)\n",
        "KNN_Accuracy = accuracy_score(pred , y_test)\n",
        "print('Accuracy : ' , KNN_Accuracy )\n",
        "models_data.append(('KNN' , KNN_Accuracy , end - start))"
      ],
      "metadata": {
        "colab": {
          "base_uri": "https://localhost:8080/"
        },
        "id": "q8ha1mH5l5QF",
        "outputId": "74240c4a-b63d-4ff9-ccfb-44ddf070fa3d"
      },
      "execution_count": null,
      "outputs": [
        {
          "output_type": "stream",
          "name": "stdout",
          "text": [
            "Accuracy :  0.8020833333333334\n"
          ]
        }
      ]
    },
    {
      "cell_type": "markdown",
      "source": [
        "# Support Vector Machines"
      ],
      "metadata": {
        "id": "yOcSe_FmItnG"
      }
    },
    {
      "cell_type": "markdown",
      "source": [
        "### Svm Implementation from Scratch"
      ],
      "metadata": {
        "id": "L_jGnT82IzzX"
      }
    },
    {
      "cell_type": "code",
      "source": [
        "class SVM :\n",
        "    \n",
        "    def __init__(self , learning_rate = 0.01 , lambda_parameter = 0.01 , nbr_iteration = 1000):\n",
        "        self.learning_rate = learning_rate\n",
        "        self.lambda_parameter = lambda_parameter\n",
        "        self.nbr_iteration = nbr_iteration\n",
        "    \n",
        "    def fit(self , x , y):\n",
        "        self.x_train = x\n",
        "        self.y_train = y \n",
        "        self.w , self.b = self.initParameters(x)\n",
        "   \n",
        "    def initParameters(self , x):\n",
        "       w = np.random.randn(x.shape[1])\n",
        "       b = np.random.randn(1)\n",
        "       return w , b\n",
        "   \n",
        "    def gradient(self,xi,yi,condition):\n",
        "        if condition :\n",
        "            dw = 2 * self.lambda_parameter * self.w\n",
        "            db = 0\n",
        "            return dw , db\n",
        "        else :\n",
        "            dw = 2 * self.lambda_parameter * self.w - np.dot(xi , yi)\n",
        "            db = yi\n",
        "            return dw , db\n",
        "    def train(self):\n",
        "        for i in range(self.nbr_iteration):\n",
        "            for index , xi in enumerate(self.x_train):\n",
        "                condition = self.y_train[index] * (np.dot(xi , self.w) - self.b ) >= 1\n",
        "                dw , db = self.gradient(xi, self.y_train[index], condition)\n",
        "                #Update The Weights and The Bias\n",
        "                self.w -= self.learning_rate * dw\n",
        "                self.b -= self.learning_rate * db\n",
        "    \n",
        "    def predict(self , x):\n",
        "        y_hat = np.dot(x , self.w) - self.b\n",
        "        return np.sign(y_hat)\n",
        "\n",
        "    def getAccuarcy(self , y_true , y_pred):\n",
        "       return np.sum(y_true == y_pred) / len(y_true)"
      ],
      "metadata": {
        "id": "WOspilwIJMdG"
      },
      "execution_count": null,
      "outputs": []
    },
    {
      "cell_type": "markdown",
      "source": [
        "### Implementation of SVM in our DataSet"
      ],
      "metadata": {
        "id": "OD5xxIQyJPJ3"
      }
    },
    {
      "cell_type": "code",
      "source": [
        "y_svm_train = np.where(y_train==0 , -1 , 1)\n",
        "y_svm_test = np.where(y_test==0 , -1 , 1)   \n",
        "    \n",
        "svm = SVM()\n",
        "svm.fit(x_train, y_svm_train)\n",
        "start = time.time()\n",
        "svm.train()\n",
        "end = time.time()\n",
        "y_hat = svm.predict(x_test)\n",
        "SVM_accuracy = svm.getAccuarcy(y_svm_test, y_hat)\n",
        "print(\"Model Accuracy : \", SVM_accuracy)\n",
        "models_data.append(('SVM' , SVM_accuracy , end - start))"
      ],
      "metadata": {
        "colab": {
          "base_uri": "https://localhost:8080/"
        },
        "id": "gywX642lJTBU",
        "outputId": "763a18c1-b2ee-4be7-f92b-3b0fe1d941d7"
      },
      "execution_count": null,
      "outputs": [
        {
          "output_type": "stream",
          "name": "stdout",
          "text": [
            "Model Accuracy :  0.8020833333333334\n"
          ]
        }
      ]
    },
    {
      "cell_type": "markdown",
      "source": [
        "# Multi-Layer Perceptron (Neural Network)"
      ],
      "metadata": {
        "id": "E8xD1fgxKhDj"
      }
    },
    {
      "cell_type": "markdown",
      "source": [
        "### Neural Network Implementation from Scratch"
      ],
      "metadata": {
        "id": "Ii_NAGUSK5np"
      }
    },
    {
      "cell_type": "code",
      "source": [
        "class NeuralNetwork:\n",
        "    \n",
        "    def __init__(self,x,y,layers,learning_rate,n_iterations):\n",
        "        self.x = x.T\n",
        "        self.y = y.reshape((1,y.shape[0]))\n",
        "        self.layers = layers\n",
        "        self.learning_rate = learning_rate\n",
        "        self.n_iterations = n_iterations\n",
        "        self.params = {}\n",
        "        for i in range(1,len(self.layers)):\n",
        "            self.params['w'+str(i)] = np.random.randn(self.layers[i],self.layers[i-1])\n",
        "            self.params['b'+str(i)] = np.random.randn(self.layers[i],1)\n",
        "    \n",
        "    def sigmoid(self,x):\n",
        "        return 1/(1 + np.exp(-x))\n",
        "    \n",
        "    def dsigmoid(self,x):\n",
        "        return x*(1-x)\n",
        "    \n",
        "    def forward_propagation(self,x):\n",
        "        activations = {'A0':x}\n",
        "        for i in range(1 , (len(self.params) // 2) +1):\n",
        "            z = np.dot( self.params['w'+str(i)] , activations['A'+str(i-1)]) + self.params['b'+str(i)]\n",
        "            activations['A'+str(i)] = self.sigmoid(z)\n",
        "        return activations\n",
        "    \n",
        "    def gradients(self,activations):\n",
        "        grads = {}\n",
        "        dz = activations['A'+str(len(self.params) // 2)] -self.y\n",
        "        for i in reversed(range(1,(len(self.params) // 2)+1)):\n",
        "            grads['dw'+str(i)] = 1 / self.y.shape[1] * np.dot(dz,activations['A'+str(i-1)].T)\n",
        "            grads['db'+str(i)] = 1 / self.y.shape[1] * np.sum(dz,axis=1,keepdims=True)\n",
        "            dz = np.dot(self.params['w'+str(i)].T , dz) * self.dsigmoid(activations['A'+str(i-1)]) \n",
        "        return grads\n",
        "    \n",
        "    def back_propagation(self,activations):\n",
        "        grads = self.gradients(activations)\n",
        "        for i in range(1,len(self.params)//2) :\n",
        "            self.params['w'+str(i)] -= self.learning_rate * grads['dw'+str(i)]\n",
        "            self.params['b'+str(i)] -= self.learning_rate * grads['db'+str(i)]\n",
        "    def train(self):\n",
        "        for i in range(self.n_iterations):\n",
        "            activations = self.forward_propagation(self.x)\n",
        "            self.back_propagation(activations)\n",
        "        \n",
        "    def prediction(self,x):\n",
        "       activations = self.forward_propagation(x)\n",
        "       return activations['A'+str(len(self.params) // 2)]\n",
        "        \n",
        "    def predict(self,x):\n",
        "       activations = self.forward_propagation(x)\n",
        "       predictions = activations['A'+str(len(self.params) // 2)]\n",
        "       for i in range(0,len(predictions[0])):\n",
        "           if predictions[0,i] > 0.5 :\n",
        "               predictions[0,i] = 1\n",
        "           else :\n",
        "               predictions[0,i] = 0               \n",
        "       return  predictions"
      ],
      "metadata": {
        "id": "G88FbsTJKl4K"
      },
      "execution_count": null,
      "outputs": []
    },
    {
      "cell_type": "markdown",
      "source": [
        "### Implementation of Neural Network On Our Dataset"
      ],
      "metadata": {
        "id": "LFahWP2FLAMK"
      }
    },
    {
      "cell_type": "code",
      "source": [
        "Neural_Network = NeuralNetwork(x_train, y_train, layers=(x.shape[1], 8 , 8 ,1), learning_rate=0.1, n_iterations=5000)\n",
        "start = time.time()\n",
        "Neural_Network.train()\n",
        "end = time.time()"
      ],
      "metadata": {
        "id": "8JLGoGJeLD6w"
      },
      "execution_count": null,
      "outputs": []
    },
    {
      "cell_type": "code",
      "source": [
        "y_pred = Neural_Network.predict(x_test.T)\n",
        "Neural_Network_Accuracy = accuracy_score(y_pred[0] , y_test)\n",
        "print(f\"Accuracy : {Neural_Network_Accuracy} .\")\n",
        "models_data.append(('Neural_Network' , Neural_Network_Accuracy , end - start))"
      ],
      "metadata": {
        "colab": {
          "base_uri": "https://localhost:8080/"
        },
        "id": "QNcbGx_LLk86",
        "outputId": "e47125f7-7760-4dd9-a16d-99440dbe79e1"
      },
      "execution_count": null,
      "outputs": [
        {
          "output_type": "stream",
          "name": "stdout",
          "text": [
            "Accuracy : 0.7864583333333334 .\n"
          ]
        }
      ]
    },
    {
      "cell_type": "markdown",
      "source": [
        "# Decision Tree Classifier"
      ],
      "metadata": {
        "id": "5MexxOMkUAQc"
      }
    },
    {
      "cell_type": "code",
      "source": [
        "model = DecisionTreeClassifier()\n",
        "model = model.fit(x_train,y_train)\n",
        "start = time.time()\n",
        "y_pred = model.predict(x_test)\n",
        "end = time.time()\n",
        "Decision_Tree_Accuracy = accuracy_score(y_pred , y_test)\n",
        "print('Accuracy : ', Decision_Tree_Accuracy)\n",
        "models_data.append(('Decision_Tree' , Decision_Tree_Accuracy , end - start))"
      ],
      "metadata": {
        "colab": {
          "base_uri": "https://localhost:8080/"
        },
        "id": "kNiDFim8UC54",
        "outputId": "e45b5e59-454b-4844-8050-0b728f293e1b"
      },
      "execution_count": null,
      "outputs": [
        {
          "output_type": "stream",
          "name": "stdout",
          "text": [
            "Accuracy :  0.703125\n"
          ]
        }
      ]
    },
    {
      "cell_type": "markdown",
      "source": [
        "# Logistic Regression"
      ],
      "metadata": {
        "id": "3RXrxKaEUujw"
      }
    },
    {
      "cell_type": "code",
      "source": [
        "logistic_Regression_Classifier = LogisticRegression()\n",
        "start = time.time()\n",
        "logistic_Regression_Classifier.fit(x_train , y_train)\n",
        "end = time.time()\n",
        "y_pred = logistic_Regression_Classifier.predict(x_test)\n",
        "logistic_Regression_Classifier_Accuracy = accuracy_score(y_pred , y_test)\n",
        "print('logistic Regression Classifier Accuracy : ', logistic_Regression_Classifier_Accuracy)\n",
        "models_data.append(('Logistic_Regression' , logistic_Regression_Classifier_Accuracy , end - start))"
      ],
      "metadata": {
        "colab": {
          "base_uri": "https://localhost:8080/"
        },
        "id": "Vo_rZMByUwwx",
        "outputId": "5077bdfe-c437-4cb0-ba51-f605104902c7"
      },
      "execution_count": null,
      "outputs": [
        {
          "output_type": "stream",
          "name": "stdout",
          "text": [
            "logistic Regression Classifier Accuracy :  0.8125\n"
          ]
        }
      ]
    },
    {
      "cell_type": "markdown",
      "source": [
        "# AdaBoost Classifier"
      ],
      "metadata": {
        "id": "X1B6U8DuVSrf"
      }
    },
    {
      "cell_type": "code",
      "source": [
        "adaBoost_Classifier = AdaBoostClassifier(n_estimators=32, random_state=0)\n",
        "start = time.time()\n",
        "adaBoost_Classifier.fit(x_train , y_train)\n",
        "end = time.time()\n",
        "y_pred = adaBoost_Classifier.predict(x_test)\n",
        "AdaBoost_Accuracy = accuracy_score(y_pred , y_test)\n",
        "print('AdaBoost Accuracy : ', AdaBoost_Accuracy)\n",
        "models_data.append(('AdaBoost' , AdaBoost_Accuracy , end - start))"
      ],
      "metadata": {
        "colab": {
          "base_uri": "https://localhost:8080/"
        },
        "id": "OOQd0YNYVWJq",
        "outputId": "cd431e77-735a-43d2-86f2-3fe4e9ad9bdd"
      },
      "execution_count": null,
      "outputs": [
        {
          "output_type": "stream",
          "name": "stdout",
          "text": [
            "AdaBoost Accuracy :  0.7864583333333334\n"
          ]
        }
      ]
    },
    {
      "cell_type": "markdown",
      "source": [
        "# Naive Bayes Classifier"
      ],
      "metadata": {
        "id": "SklWOtkIWGfX"
      }
    },
    {
      "cell_type": "code",
      "source": [
        "naive_bayes_classifier = GaussianNB()\n",
        "start = time.time()\n",
        "naive_bayes_classifier.fit(x_train , y_train)\n",
        "end = time.time()\n",
        "y_pred = naive_bayes_classifier.predict(x_test)\n",
        "naive_bayes_accuracy = accuracy_score(y_pred , y_test)\n",
        "print('Naive Bayes Classifier Accuracy : ', naive_bayes_accuracy)\n",
        "models_data.append(('Naive_Bayes' , naive_bayes_accuracy , end - start))"
      ],
      "metadata": {
        "colab": {
          "base_uri": "https://localhost:8080/"
        },
        "id": "qJswO_P2VzVp",
        "outputId": "b8ed19fd-0dba-4c21-e1c9-9d3bf13c42fd"
      },
      "execution_count": null,
      "outputs": [
        {
          "output_type": "stream",
          "name": "stdout",
          "text": [
            "Naive Bayes Classifier Accuracy :  0.7760416666666666\n"
          ]
        }
      ]
    },
    {
      "cell_type": "markdown",
      "source": [
        "# Store The Result as a DataFrame"
      ],
      "metadata": {
        "id": "4dd41nhmWtD2"
      }
    },
    {
      "cell_type": "code",
      "source": [
        "models_data = np.array(models_data)\n",
        "Result_dataFrame = pd.DataFrame({'Model_Name' : models_data[:,0] , 'Accuracy' : models_data[:,1] , 'Training_Time' : models_data[:,2]})"
      ],
      "metadata": {
        "id": "8ixX-RkJWwZe"
      },
      "execution_count": null,
      "outputs": []
    },
    {
      "cell_type": "code",
      "source": [
        "# The Final Result\n",
        "Result_dataFrame"
      ],
      "metadata": {
        "colab": {
          "base_uri": "https://localhost:8080/",
          "height": 269
        },
        "id": "pGAHYU6IXazs",
        "outputId": "c2efd442-5d23-407a-8f11-dc787c33e229"
      },
      "execution_count": null,
      "outputs": [
        {
          "output_type": "execute_result",
          "data": {
            "text/html": [
              "\n",
              "  <div id=\"df-b49d2134-45cb-4ec8-8d8a-617d1ac3c427\">\n",
              "    <div class=\"colab-df-container\">\n",
              "      <div>\n",
              "<style scoped>\n",
              "    .dataframe tbody tr th:only-of-type {\n",
              "        vertical-align: middle;\n",
              "    }\n",
              "\n",
              "    .dataframe tbody tr th {\n",
              "        vertical-align: top;\n",
              "    }\n",
              "\n",
              "    .dataframe thead th {\n",
              "        text-align: right;\n",
              "    }\n",
              "</style>\n",
              "<table border=\"1\" class=\"dataframe\">\n",
              "  <thead>\n",
              "    <tr style=\"text-align: right;\">\n",
              "      <th></th>\n",
              "      <th>Model_Name</th>\n",
              "      <th>Accuracy</th>\n",
              "      <th>Training_Time</th>\n",
              "    </tr>\n",
              "  </thead>\n",
              "  <tbody>\n",
              "    <tr>\n",
              "      <th>0</th>\n",
              "      <td>KNN</td>\n",
              "      <td>0.8020833333333334</td>\n",
              "      <td>0.0017209053039550781</td>\n",
              "    </tr>\n",
              "    <tr>\n",
              "      <th>1</th>\n",
              "      <td>SVM</td>\n",
              "      <td>0.8020833333333334</td>\n",
              "      <td>12.163266897201538</td>\n",
              "    </tr>\n",
              "    <tr>\n",
              "      <th>2</th>\n",
              "      <td>Neural_Network</td>\n",
              "      <td>0.7864583333333334</td>\n",
              "      <td>2.272207260131836</td>\n",
              "    </tr>\n",
              "    <tr>\n",
              "      <th>3</th>\n",
              "      <td>Decision_Tree</td>\n",
              "      <td>0.703125</td>\n",
              "      <td>0.00045108795166015625</td>\n",
              "    </tr>\n",
              "    <tr>\n",
              "      <th>4</th>\n",
              "      <td>Logistic_Regression</td>\n",
              "      <td>0.8125</td>\n",
              "      <td>0.032446861267089844</td>\n",
              "    </tr>\n",
              "    <tr>\n",
              "      <th>5</th>\n",
              "      <td>AdaBoost</td>\n",
              "      <td>0.7864583333333334</td>\n",
              "      <td>0.06379199028015137</td>\n",
              "    </tr>\n",
              "    <tr>\n",
              "      <th>6</th>\n",
              "      <td>Naive_Bayes</td>\n",
              "      <td>0.7760416666666666</td>\n",
              "      <td>0.009063720703125</td>\n",
              "    </tr>\n",
              "  </tbody>\n",
              "</table>\n",
              "</div>\n",
              "      <button class=\"colab-df-convert\" onclick=\"convertToInteractive('df-b49d2134-45cb-4ec8-8d8a-617d1ac3c427')\"\n",
              "              title=\"Convert this dataframe to an interactive table.\"\n",
              "              style=\"display:none;\">\n",
              "        \n",
              "  <svg xmlns=\"http://www.w3.org/2000/svg\" height=\"24px\"viewBox=\"0 0 24 24\"\n",
              "       width=\"24px\">\n",
              "    <path d=\"M0 0h24v24H0V0z\" fill=\"none\"/>\n",
              "    <path d=\"M18.56 5.44l.94 2.06.94-2.06 2.06-.94-2.06-.94-.94-2.06-.94 2.06-2.06.94zm-11 1L8.5 8.5l.94-2.06 2.06-.94-2.06-.94L8.5 2.5l-.94 2.06-2.06.94zm10 10l.94 2.06.94-2.06 2.06-.94-2.06-.94-.94-2.06-.94 2.06-2.06.94z\"/><path d=\"M17.41 7.96l-1.37-1.37c-.4-.4-.92-.59-1.43-.59-.52 0-1.04.2-1.43.59L10.3 9.45l-7.72 7.72c-.78.78-.78 2.05 0 2.83L4 21.41c.39.39.9.59 1.41.59.51 0 1.02-.2 1.41-.59l7.78-7.78 2.81-2.81c.8-.78.8-2.07 0-2.86zM5.41 20L4 18.59l7.72-7.72 1.47 1.35L5.41 20z\"/>\n",
              "  </svg>\n",
              "      </button>\n",
              "      \n",
              "  <style>\n",
              "    .colab-df-container {\n",
              "      display:flex;\n",
              "      flex-wrap:wrap;\n",
              "      gap: 12px;\n",
              "    }\n",
              "\n",
              "    .colab-df-convert {\n",
              "      background-color: #E8F0FE;\n",
              "      border: none;\n",
              "      border-radius: 50%;\n",
              "      cursor: pointer;\n",
              "      display: none;\n",
              "      fill: #1967D2;\n",
              "      height: 32px;\n",
              "      padding: 0 0 0 0;\n",
              "      width: 32px;\n",
              "    }\n",
              "\n",
              "    .colab-df-convert:hover {\n",
              "      background-color: #E2EBFA;\n",
              "      box-shadow: 0px 1px 2px rgba(60, 64, 67, 0.3), 0px 1px 3px 1px rgba(60, 64, 67, 0.15);\n",
              "      fill: #174EA6;\n",
              "    }\n",
              "\n",
              "    [theme=dark] .colab-df-convert {\n",
              "      background-color: #3B4455;\n",
              "      fill: #D2E3FC;\n",
              "    }\n",
              "\n",
              "    [theme=dark] .colab-df-convert:hover {\n",
              "      background-color: #434B5C;\n",
              "      box-shadow: 0px 1px 3px 1px rgba(0, 0, 0, 0.15);\n",
              "      filter: drop-shadow(0px 1px 2px rgba(0, 0, 0, 0.3));\n",
              "      fill: #FFFFFF;\n",
              "    }\n",
              "  </style>\n",
              "\n",
              "      <script>\n",
              "        const buttonEl =\n",
              "          document.querySelector('#df-b49d2134-45cb-4ec8-8d8a-617d1ac3c427 button.colab-df-convert');\n",
              "        buttonEl.style.display =\n",
              "          google.colab.kernel.accessAllowed ? 'block' : 'none';\n",
              "\n",
              "        async function convertToInteractive(key) {\n",
              "          const element = document.querySelector('#df-b49d2134-45cb-4ec8-8d8a-617d1ac3c427');\n",
              "          const dataTable =\n",
              "            await google.colab.kernel.invokeFunction('convertToInteractive',\n",
              "                                                     [key], {});\n",
              "          if (!dataTable) return;\n",
              "\n",
              "          const docLinkHtml = 'Like what you see? Visit the ' +\n",
              "            '<a target=\"_blank\" href=https://colab.research.google.com/notebooks/data_table.ipynb>data table notebook</a>'\n",
              "            + ' to learn more about interactive tables.';\n",
              "          element.innerHTML = '';\n",
              "          dataTable['output_type'] = 'display_data';\n",
              "          await google.colab.output.renderOutput(dataTable, element);\n",
              "          const docLink = document.createElement('div');\n",
              "          docLink.innerHTML = docLinkHtml;\n",
              "          element.appendChild(docLink);\n",
              "        }\n",
              "      </script>\n",
              "    </div>\n",
              "  </div>\n",
              "  "
            ],
            "text/plain": [
              "            Model_Name            Accuracy           Training_Time\n",
              "0                  KNN  0.8020833333333334   0.0017209053039550781\n",
              "1                  SVM  0.8020833333333334      12.163266897201538\n",
              "2       Neural_Network  0.7864583333333334       2.272207260131836\n",
              "3        Decision_Tree            0.703125  0.00045108795166015625\n",
              "4  Logistic_Regression              0.8125    0.032446861267089844\n",
              "5             AdaBoost  0.7864583333333334     0.06379199028015137\n",
              "6          Naive_Bayes  0.7760416666666666       0.009063720703125"
            ]
          },
          "metadata": {},
          "execution_count": 227
        }
      ]
    },
    {
      "cell_type": "code",
      "source": [
        "# Plot The Scores Of The different Models \n",
        "\n",
        "Model_names = Result_dataFrame[['Model_Name']].values\n",
        "Model_scores = np.float64(Result_dataFrame[['Accuracy']].values)\n",
        "Model_names = Model_names.reshape(Model_names.shape[0])\n",
        "Model_scores = Model_scores.reshape(Model_scores.shape[0])\n",
        "\n",
        "fig, ax = plt.subplots(figsize=(18,5)) \n",
        "ax.bar(Model_names , Model_scores , width = 0.3 , color = 'rgbkymc')\n",
        "plt.title(\"The Accuracy of The different Models\")\n",
        "plt.ylabel('Model Accuracy')\n",
        "plt.xlabel('Model Name')\n",
        "plt.show()"
      ],
      "metadata": {
        "colab": {
          "base_uri": "https://localhost:8080/",
          "height": 351
        },
        "id": "LycYz5sLXu50",
        "outputId": "2f38a6ca-83be-48eb-8a7a-011463ead967"
      },
      "execution_count": null,
      "outputs": [
        {
          "output_type": "display_data",
          "data": {
            "image/png": "[encoded data removed]",
            "text/plain": [
              "<Figure size 1296x360 with 1 Axes>"
            ]
          },
          "metadata": {
            "needs_background": "light"
          }
        }
      ]
    },
    {
      "cell_type": "code",
      "source": [
        "# Plot The Training Time Of The different Models \n",
        "\n",
        "Model_names = Result_dataFrame[['Model_Name']].values\n",
        "Model_scores = np.float64(Result_dataFrame[['Training_Time']].values)\n",
        "Model_names = Model_names.reshape(Model_names.shape[0])\n",
        "Model_scores = Model_scores.reshape(Model_scores.shape[0])\n",
        "\n",
        "fig, ax = plt.subplots(figsize=(18,5)) \n",
        "ax.bar(Model_names , Model_scores , width = 0.3 , color = 'rgbkymc')\n",
        "plt.title(\"The Training Time of The different Models\")\n",
        "plt.ylabel('Training_Time')\n",
        "plt.xlabel('Model Name')\n",
        "plt.show()"
      ],
      "metadata": {
        "colab": {
          "base_uri": "https://localhost:8080/",
          "height": 351
        },
        "id": "L-kzqru2nIGL",
        "outputId": "97dd53c2-8cd3-4bd9-c323-32af74a7a27e"
      },
      "execution_count": null,
      "outputs": [
        {
          "output_type": "display_data",
          "data": {
            "image/png": "[encoded data removed]",
            "text/plain": [
              "<Figure size 1296x360 with 1 Axes>"
            ]
          },
          "metadata": {
            "needs_background": "light"
          }
        }
      ]
    }
  ]
}